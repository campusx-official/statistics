{
 "cells": [
  {
   "cell_type": "code",
   "execution_count": 1,
   "metadata": {},
   "outputs": [],
   "source": [
    "import numpy as np\n",
    "import pandas as pd\n",
    "import matplotlib.pyplot as plt\n",
    "import seaborn as sns"
   ]
  },
  {
   "cell_type": "code",
   "execution_count": 2,
   "metadata": {},
   "outputs": [],
   "source": [
    "data=pd.read_csv('train.csv')"
   ]
  },
  {
   "cell_type": "code",
   "execution_count": 3,
   "metadata": {},
   "outputs": [
    {
     "data": {
      "text/html": [
       "<div>\n",
       "<style scoped>\n",
       "    .dataframe tbody tr th:only-of-type {\n",
       "        vertical-align: middle;\n",
       "    }\n",
       "\n",
       "    .dataframe tbody tr th {\n",
       "        vertical-align: top;\n",
       "    }\n",
       "\n",
       "    .dataframe thead th {\n",
       "        text-align: right;\n",
       "    }\n",
       "</style>\n",
       "<table border=\"1\" class=\"dataframe\">\n",
       "  <thead>\n",
       "    <tr style=\"text-align: right;\">\n",
       "      <th></th>\n",
       "      <th>PassengerId</th>\n",
       "      <th>Survived</th>\n",
       "      <th>Pclass</th>\n",
       "      <th>Name</th>\n",
       "      <th>Sex</th>\n",
       "      <th>Age</th>\n",
       "      <th>SibSp</th>\n",
       "      <th>Parch</th>\n",
       "      <th>Ticket</th>\n",
       "      <th>Fare</th>\n",
       "      <th>Cabin</th>\n",
       "      <th>Embarked</th>\n",
       "    </tr>\n",
       "  </thead>\n",
       "  <tbody>\n",
       "    <tr>\n",
       "      <th>0</th>\n",
       "      <td>1</td>\n",
       "      <td>0</td>\n",
       "      <td>3</td>\n",
       "      <td>Braund, Mr. Owen Harris</td>\n",
       "      <td>male</td>\n",
       "      <td>22.0</td>\n",
       "      <td>1</td>\n",
       "      <td>0</td>\n",
       "      <td>A/5 21171</td>\n",
       "      <td>7.2500</td>\n",
       "      <td>NaN</td>\n",
       "      <td>S</td>\n",
       "    </tr>\n",
       "    <tr>\n",
       "      <th>1</th>\n",
       "      <td>2</td>\n",
       "      <td>1</td>\n",
       "      <td>1</td>\n",
       "      <td>Cumings, Mrs. John Bradley (Florence Briggs Th...</td>\n",
       "      <td>female</td>\n",
       "      <td>38.0</td>\n",
       "      <td>1</td>\n",
       "      <td>0</td>\n",
       "      <td>PC 17599</td>\n",
       "      <td>71.2833</td>\n",
       "      <td>C85</td>\n",
       "      <td>C</td>\n",
       "    </tr>\n",
       "    <tr>\n",
       "      <th>2</th>\n",
       "      <td>3</td>\n",
       "      <td>1</td>\n",
       "      <td>3</td>\n",
       "      <td>Heikkinen, Miss. Laina</td>\n",
       "      <td>female</td>\n",
       "      <td>26.0</td>\n",
       "      <td>0</td>\n",
       "      <td>0</td>\n",
       "      <td>STON/O2. 3101282</td>\n",
       "      <td>7.9250</td>\n",
       "      <td>NaN</td>\n",
       "      <td>S</td>\n",
       "    </tr>\n",
       "    <tr>\n",
       "      <th>3</th>\n",
       "      <td>4</td>\n",
       "      <td>1</td>\n",
       "      <td>1</td>\n",
       "      <td>Futrelle, Mrs. Jacques Heath (Lily May Peel)</td>\n",
       "      <td>female</td>\n",
       "      <td>35.0</td>\n",
       "      <td>1</td>\n",
       "      <td>0</td>\n",
       "      <td>113803</td>\n",
       "      <td>53.1000</td>\n",
       "      <td>C123</td>\n",
       "      <td>S</td>\n",
       "    </tr>\n",
       "    <tr>\n",
       "      <th>4</th>\n",
       "      <td>5</td>\n",
       "      <td>0</td>\n",
       "      <td>3</td>\n",
       "      <td>Allen, Mr. William Henry</td>\n",
       "      <td>male</td>\n",
       "      <td>35.0</td>\n",
       "      <td>0</td>\n",
       "      <td>0</td>\n",
       "      <td>373450</td>\n",
       "      <td>8.0500</td>\n",
       "      <td>NaN</td>\n",
       "      <td>S</td>\n",
       "    </tr>\n",
       "  </tbody>\n",
       "</table>\n",
       "</div>"
      ],
      "text/plain": [
       "   PassengerId  Survived  Pclass  \\\n",
       "0            1         0       3   \n",
       "1            2         1       1   \n",
       "2            3         1       3   \n",
       "3            4         1       1   \n",
       "4            5         0       3   \n",
       "\n",
       "                                                Name     Sex   Age  SibSp  \\\n",
       "0                            Braund, Mr. Owen Harris    male  22.0      1   \n",
       "1  Cumings, Mrs. John Bradley (Florence Briggs Th...  female  38.0      1   \n",
       "2                             Heikkinen, Miss. Laina  female  26.0      0   \n",
       "3       Futrelle, Mrs. Jacques Heath (Lily May Peel)  female  35.0      1   \n",
       "4                           Allen, Mr. William Henry    male  35.0      0   \n",
       "\n",
       "   Parch            Ticket     Fare Cabin Embarked  \n",
       "0      0         A/5 21171   7.2500   NaN        S  \n",
       "1      0          PC 17599  71.2833   C85        C  \n",
       "2      0  STON/O2. 3101282   7.9250   NaN        S  \n",
       "3      0            113803  53.1000  C123        S  \n",
       "4      0            373450   8.0500   NaN        S  "
      ]
     },
     "execution_count": 3,
     "metadata": {},
     "output_type": "execute_result"
    }
   ],
   "source": [
    "data.head()"
   ]
  },
  {
   "cell_type": "markdown",
   "metadata": {},
   "source": [
    "# Working with single data/variable"
   ]
  },
  {
   "cell_type": "markdown",
   "metadata": {},
   "source": [
    "# 1. Working with Qualitative/Categorical data"
   ]
  },
  {
   "cell_type": "markdown",
   "metadata": {},
   "source": [
    "## a. Frequency Distribution Table\n",
    "\n",
    "<p>Frequency tells you how often something happened. The frequency of an observation tells you the number of times the observation occurs in the data. For example, in the following list of numbers, the frequency of the number 9 is 5 (because it occurs 5 times):\n",
    "\n",
    "1, 2, 3, 4, 6, 9, 9, 8, 5, 1, 1, 9, 9, 0, 6, 9.</p>\n",
    "\n",
    "<img src=\"http://www.softschools.com/math/probability_and_statistics/images/frequency_table_categorical_data_1.png\" />"
   ]
  },
  {
   "cell_type": "code",
   "execution_count": 26,
   "metadata": {},
   "outputs": [
    {
     "data": {
      "text/plain": [
       "3    491\n",
       "1    216\n",
       "2    184\n",
       "Name: Pclass, dtype: int64"
      ]
     },
     "execution_count": 26,
     "metadata": {},
     "output_type": "execute_result"
    }
   ],
   "source": [
    "data['Pclass'].value_counts()"
   ]
  },
  {
   "cell_type": "code",
   "execution_count": null,
   "metadata": {},
   "outputs": [],
   "source": []
  },
  {
   "cell_type": "code",
   "execution_count": null,
   "metadata": {},
   "outputs": [],
   "source": []
  },
  {
   "cell_type": "markdown",
   "metadata": {},
   "source": [
    "## b. Bar Chart"
   ]
  },
  {
   "cell_type": "code",
   "execution_count": 28,
   "metadata": {},
   "outputs": [
    {
     "data": {
      "text/plain": [
       "<matplotlib.axes._subplots.AxesSubplot at 0x48f3ca9208>"
      ]
     },
     "execution_count": 28,
     "metadata": {},
     "output_type": "execute_result"
    },
    {
     "data": {
      "image/png": "[encoded data removed]",
      "text/plain": [
       "<Figure size 432x288 with 1 Axes>"
      ]
     },
     "metadata": {
      "needs_background": "light"
     },
     "output_type": "display_data"
    }
   ],
   "source": [
    "data['Pclass'].value_counts().plot(kind='bar')"
   ]
  },
  {
   "cell_type": "code",
   "execution_count": null,
   "metadata": {},
   "outputs": [],
   "source": []
  },
  {
   "cell_type": "code",
   "execution_count": null,
   "metadata": {},
   "outputs": [],
   "source": []
  },
  {
   "cell_type": "markdown",
   "metadata": {},
   "source": [
    "## c. Pie Chart"
   ]
  },
  {
   "cell_type": "code",
   "execution_count": 34,
   "metadata": {},
   "outputs": [
    {
     "data": {
      "text/plain": [
       "<matplotlib.axes._subplots.AxesSubplot at 0x48f405e4a8>"
      ]
     },
     "execution_count": 34,
     "metadata": {},
     "output_type": "execute_result"
    },
    {
     "data": {
      "image/png": "[encoded data removed]",
      "text/plain": [
       "<Figure size 432x288 with 1 Axes>"
      ]
     },
     "metadata": {},
     "output_type": "display_data"
    }
   ],
   "source": [
    "data['Pclass'].value_counts().plot(kind='pie', autopct='%0.2f')"
   ]
  },
  {
   "cell_type": "code",
   "execution_count": null,
   "metadata": {},
   "outputs": [],
   "source": []
  },
  {
   "cell_type": "code",
   "execution_count": null,
   "metadata": {},
   "outputs": [],
   "source": []
  },
  {
   "cell_type": "markdown",
   "metadata": {},
   "source": [
    "## d. Cumulative Frequency\n",
    "\n",
    "<p>The frequency is the number of times an event occurs within a given scenario. Cumulative frequency is defined as the running total of frequencies. It is the sum of all the previous frequencies up to the current point. It is easily understandable through a Cumulative Frequency Table.</p>\n",
    "\n",
    "<img src=\"https://www.mathsisfun.com/data/images/frequency-cumulative.svg\"/>"
   ]
  },
  {
   "cell_type": "code",
   "execution_count": 36,
   "metadata": {},
   "outputs": [],
   "source": [
    "a=data['Pclass'].value_counts()"
   ]
  },
  {
   "cell_type": "code",
   "execution_count": 40,
   "metadata": {},
   "outputs": [],
   "source": [
    "b=((a/a.sum())*100).values"
   ]
  },
  {
   "cell_type": "code",
   "execution_count": 41,
   "metadata": {},
   "outputs": [
    {
     "data": {
      "text/plain": [
       "array([55.10662177, 24.24242424, 20.65095398])"
      ]
     },
     "execution_count": 41,
     "metadata": {},
     "output_type": "execute_result"
    }
   ],
   "source": [
    "b"
   ]
  },
  {
   "cell_type": "code",
   "execution_count": 42,
   "metadata": {},
   "outputs": [],
   "source": [
    "c=[]\n",
    "cf=0\n",
    "for i in b:\n",
    "    cf=cf + i\n",
    "    c.append(cf)"
   ]
  },
  {
   "cell_type": "code",
   "execution_count": 45,
   "metadata": {},
   "outputs": [
    {
     "data": {
      "text/plain": [
       "[<matplotlib.lines.Line2D at 0x48f413b8d0>]"
      ]
     },
     "execution_count": 45,
     "metadata": {},
     "output_type": "execute_result"
    },
    {
     "data": {
      "image/png": "[encoded data removed]",
      "text/plain": [
       "<Figure size 432x288 with 1 Axes>"
      ]
     },
     "metadata": {
      "needs_background": "light"
     },
     "output_type": "display_data"
    }
   ],
   "source": [
    "plt.plot(c, marker='D')"
   ]
  },
  {
   "cell_type": "markdown",
   "metadata": {},
   "source": [
    "# 2. Working with Quantitative/Numerical data"
   ]
  },
  {
   "cell_type": "markdown",
   "metadata": {},
   "source": [
    "## a. Histograms"
   ]
  },
  {
   "cell_type": "code",
   "execution_count": 49,
   "metadata": {},
   "outputs": [],
   "source": [
    "d=data['Age'].values"
   ]
  },
  {
   "cell_type": "code",
   "execution_count": 50,
   "metadata": {},
   "outputs": [
    {
     "name": "stderr",
     "output_type": "stream",
     "text": [
      "C:\\Users\\Nitish\\Anaconda3\\lib\\site-packages\\numpy\\lib\\histograms.py:824: RuntimeWarning: invalid value encountered in greater_equal\n",
      "  keep = (tmp_a >= first_edge)\n",
      "C:\\Users\\Nitish\\Anaconda3\\lib\\site-packages\\numpy\\lib\\histograms.py:825: RuntimeWarning: invalid value encountered in less_equal\n",
      "  keep &= (tmp_a <= last_edge)\n"
     ]
    },
    {
     "data": {
      "text/plain": [
       "(array([ 54.,  46., 177., 169., 118.,  70.,  45.,  24.,   9.,   2.]),\n",
       " array([ 0.42 ,  8.378, 16.336, 24.294, 32.252, 40.21 , 48.168, 56.126,\n",
       "        64.084, 72.042, 80.   ]),\n",
       " <a list of 10 Patch objects>)"
      ]
     },
     "execution_count": 50,
     "metadata": {},
     "output_type": "execute_result"
    },
    {
     "data": {
      "image/png": "[encoded data removed]",
      "text/plain": [
       "<Figure size 432x288 with 1 Axes>"
      ]
     },
     "metadata": {
      "needs_background": "light"
     },
     "output_type": "display_data"
    }
   ],
   "source": [
    "plt.hist(d)"
   ]
  },
  {
   "cell_type": "markdown",
   "metadata": {},
   "source": [
    "## b. Boxplots"
   ]
  },
  {
   "cell_type": "code",
   "execution_count": 51,
   "metadata": {},
   "outputs": [
    {
     "data": {
      "text/plain": [
       "<matplotlib.axes._subplots.AxesSubplot at 0x48f421bc50>"
      ]
     },
     "execution_count": 51,
     "metadata": {},
     "output_type": "execute_result"
    },
    {
     "data": {
      "image/png": "[encoded data removed]",
      "text/plain": [
       "<Figure size 432x288 with 1 Axes>"
      ]
     },
     "metadata": {
      "needs_background": "light"
     },
     "output_type": "display_data"
    }
   ],
   "source": [
    "sns.boxplot('Age', data=data)"
   ]
  },
  {
   "cell_type": "code",
   "execution_count": 56,
   "metadata": {},
   "outputs": [
    {
     "data": {
      "text/plain": [
       "28.0"
      ]
     },
     "execution_count": 56,
     "metadata": {},
     "output_type": "execute_result"
    }
   ],
   "source": [
    "a=data.dropna(subset=['Age'])\n",
    "a=a['Age'].values\n",
    "np.median(a)"
   ]
  },
  {
   "cell_type": "markdown",
   "metadata": {},
   "source": [
    "## c. Kdeplot"
   ]
  },
  {
   "cell_type": "code",
   "execution_count": 58,
   "metadata": {},
   "outputs": [
    {
     "name": "stderr",
     "output_type": "stream",
     "text": [
      "C:\\Users\\Nitish\\Anaconda3\\lib\\site-packages\\statsmodels\\nonparametric\\kde.py:447: RuntimeWarning: invalid value encountered in greater\n",
      "  X = X[np.logical_and(X > clip[0], X < clip[1])] # won't work for two columns.\n",
      "C:\\Users\\Nitish\\Anaconda3\\lib\\site-packages\\statsmodels\\nonparametric\\kde.py:447: RuntimeWarning: invalid value encountered in less\n",
      "  X = X[np.logical_and(X > clip[0], X < clip[1])] # won't work for two columns.\n"
     ]
    },
    {
     "data": {
      "text/plain": [
       "<matplotlib.axes._subplots.AxesSubplot at 0x48f431c438>"
      ]
     },
     "execution_count": 58,
     "metadata": {},
     "output_type": "execute_result"
    },
    {
     "data": {
      "image/png": "[encoded data removed]",
      "text/plain": [
       "<Figure size 432x288 with 1 Axes>"
      ]
     },
     "metadata": {
      "needs_background": "light"
     },
     "output_type": "display_data"
    }
   ],
   "source": [
    "sns.kdeplot(data['Age'])"
   ]
  },
  {
   "cell_type": "markdown",
   "metadata": {},
   "source": [
    "# Working with 2 variables/data (Bivariate Analysis)"
   ]
  },
  {
   "cell_type": "markdown",
   "metadata": {},
   "source": [
    "# 1. Categorical Vs Numerical"
   ]
  },
  {
   "cell_type": "markdown",
   "metadata": {},
   "source": [
    "## a. Box Plot"
   ]
  },
  {
   "cell_type": "code",
   "execution_count": 59,
   "metadata": {},
   "outputs": [
    {
     "data": {
      "text/plain": [
       "<matplotlib.axes._subplots.AxesSubplot at 0x48f4285f28>"
      ]
     },
     "execution_count": 59,
     "metadata": {},
     "output_type": "execute_result"
    },
    {
     "data": {
      "image/png": "[encoded data removed]",
      "text/plain": [
       "<Figure size 432x288 with 1 Axes>"
      ]
     },
     "metadata": {
      "needs_background": "light"
     },
     "output_type": "display_data"
    }
   ],
   "source": [
    "sns.boxplot(x='Pclass',y='Age',data=data)"
   ]
  },
  {
   "cell_type": "markdown",
   "metadata": {},
   "source": [
    "## b. Bar Plot"
   ]
  },
  {
   "cell_type": "code",
   "execution_count": 60,
   "metadata": {},
   "outputs": [
    {
     "data": {
      "text/plain": [
       "<matplotlib.axes._subplots.AxesSubplot at 0x48f440d4a8>"
      ]
     },
     "execution_count": 60,
     "metadata": {},
     "output_type": "execute_result"
    },
    {
     "data": {
      "image/png": "[encoded data removed]",
      "text/plain": [
       "<Figure size 432x288 with 1 Axes>"
      ]
     },
     "metadata": {
      "needs_background": "light"
     },
     "output_type": "display_data"
    }
   ],
   "source": [
    "sns.barplot(x='Pclass',y='Age',data=data)"
   ]
  },
  {
   "cell_type": "markdown",
   "metadata": {},
   "source": [
    "# 2. Numerical Vs Numerical"
   ]
  },
  {
   "cell_type": "markdown",
   "metadata": {},
   "source": [
    "## a. Scatter Plot"
   ]
  },
  {
   "cell_type": "code",
   "execution_count": 62,
   "metadata": {},
   "outputs": [
    {
     "data": {
      "text/plain": [
       "<matplotlib.collections.PathCollection at 0x48f44a87f0>"
      ]
     },
     "execution_count": 62,
     "metadata": {},
     "output_type": "execute_result"
    },
    {
     "data": {
      "image/png": "[encoded data removed]",
      "text/plain": [
       "<Figure size 432x288 with 1 Axes>"
      ]
     },
     "metadata": {
      "needs_background": "light"
     },
     "output_type": "display_data"
    }
   ],
   "source": [
    "m=data['Age'].values\n",
    "n=data['Fare'].values\n",
    "\n",
    "plt.scatter(m,n)"
   ]
  },
  {
   "cell_type": "code",
   "execution_count": null,
   "metadata": {},
   "outputs": [],
   "source": []
  },
  {
   "cell_type": "code",
   "execution_count": null,
   "metadata": {},
   "outputs": [],
   "source": []
  },
  {
   "cell_type": "markdown",
   "metadata": {},
   "source": [
    "# 3. Categorical Vs Categorical"
   ]
  },
  {
   "cell_type": "markdown",
   "metadata": {},
   "source": [
    "## a. Cross Tables/Contingency Table\n",
    "\n",
    "<p>In statistics, a contingency table (also known as a cross tabulation or crosstab) is a type of table in a matrix format that displays the (multivariate) frequency distribution of the variables.</p>\n",
    "\n",
    "<img src=\"data:image/png;base64,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\"/>"
   ]
  },
  {
   "cell_type": "code",
   "execution_count": 64,
   "metadata": {},
   "outputs": [],
   "source": [
    "ct=pd.crosstab(data['Pclass'],data['Sex'])"
   ]
  },
  {
   "cell_type": "code",
   "execution_count": null,
   "metadata": {},
   "outputs": [],
   "source": [
    "c"
   ]
  },
  {
   "cell_type": "markdown",
   "metadata": {},
   "source": [
    "## b. Side by side bar chart"
   ]
  },
  {
   "cell_type": "code",
   "execution_count": 65,
   "metadata": {},
   "outputs": [
    {
     "data": {
      "text/plain": [
       "<matplotlib.axes._subplots.AxesSubplot at 0x48f44e5208>"
      ]
     },
     "execution_count": 65,
     "metadata": {},
     "output_type": "execute_result"
    },
    {
     "data": {
      "image/png": "[encoded data removed]",
      "text/plain": [
       "<Figure size 432x288 with 1 Axes>"
      ]
     },
     "metadata": {
      "needs_background": "light"
     },
     "output_type": "display_data"
    }
   ],
   "source": [
    "ct.plot(kind='bar')"
   ]
  },
  {
   "cell_type": "markdown",
   "metadata": {},
   "source": [
    "## c. Heatmaps"
   ]
  },
  {
   "cell_type": "code",
   "execution_count": 66,
   "metadata": {},
   "outputs": [
    {
     "data": {
      "text/plain": [
       "<matplotlib.axes._subplots.AxesSubplot at 0x48f4562d30>"
      ]
     },
     "execution_count": 66,
     "metadata": {},
     "output_type": "execute_result"
    },
    {
     "data": {
      "image/png": "[encoded data removed]",
      "text/plain": [
       "<Figure size 432x288 with 2 Axes>"
      ]
     },
     "metadata": {
      "needs_background": "light"
     },
     "output_type": "display_data"
    }
   ],
   "source": [
    "sns.heatmap(ct)"
   ]
  },
  {
   "cell_type": "code",
   "execution_count": null,
   "metadata": {},
   "outputs": [],
   "source": []
  }
 ],
 "metadata": {
  "kernelspec": {
   "display_name": "Python 3",
   "language": "python",
   "name": "python3"
  },
  "language_info": {
   "codemirror_mode": {
    "name": "ipython",
    "version": 3
   },
   "file_extension": ".py",
   "mimetype": "text/x-python",
   "name": "python",
   "nbconvert_exporter": "python",
   "pygments_lexer": "ipython3",
   "version": "3.7.3"
  }
 },
 "nbformat": 4,
 "nbformat_minor": 2
}
